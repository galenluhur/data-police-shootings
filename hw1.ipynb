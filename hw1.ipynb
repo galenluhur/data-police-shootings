{
 "cells": [
  {
   "cell_type": "markdown",
   "metadata": {},
   "source": [
    "### Question 1\n",
    "\n",
    "-Junior <br>\n",
    "-Data analytics Major and Business Minor<br>\n",
    "-Becoming a data analyst<br>\n",
    "-I hope I can learn how machine learning works and able to do data mining.\n",
    "-I used python mostly for database purposes which uses pandas, numpy, and matplotlib. I also used jupyter notebook for assignments, but I never learn machine learning at all. <br>\n",
    "-I plan to use library trinity lab computer.\n",
    "\n",
    "<img src=\"https://m.media-amazon.com/images/W/MEDIAX_792452-T1/images/I/71vkrl1UC5L.jpg\" alt=\"Alt Text\" width=\"200\" height=\"250\"/>"
   ]
  },
  {
   "cell_type": "code",
   "execution_count": 3,
   "metadata": {},
   "outputs": [
    {
     "data": {
      "text/plain": [
       "array([[  1.,   2.,   4.],\n",
       "       [  8.,  16.,  32.],\n",
       "       [ 64., 128., 256.]])"
      ]
     },
     "execution_count": 3,
     "metadata": {},
     "output_type": "execute_result"
    }
   ],
   "source": [
    "# Question 2.1\n",
    "import numpy as np\n",
    "\n",
    "rows, cols = 3, 3\n",
    "A = np.empty((rows, cols))\n",
    "\n",
    "for i in range(rows):\n",
    "    for j in range(cols):\n",
    "        A[i, j] = 2 ** (i * cols + j)\n",
    "\n",
    "A"
   ]
  },
  {
   "cell_type": "code",
   "execution_count": 10,
   "metadata": {},
   "outputs": [
    {
     "data": {
      "text/plain": [
       "array([[  4.,  32., 256.],\n",
       "       [  2.,  16., 128.],\n",
       "       [  1.,   8.,  64.]])"
      ]
     },
     "execution_count": 10,
     "metadata": {},
     "output_type": "execute_result"
    }
   ],
   "source": [
    "# Question 2.2\n",
    "burger = np.rot90(A)\n",
    "burger"
   ]
  },
  {
   "cell_type": "markdown",
   "metadata": {},
   "source": [
    "### Question 3.1\n",
    "\n",
    "1.1 overview <br>\n",
    "1.2 how to use pandas ;earning objectives<br>\n",
    "1.3 the data we will be using is a various canadian language dataset from an R data package.<br>\n",
    "1.4 The type of question we should be asking such as decriptive, exploratory, predictive, inferential, causal, and mechanistic. From there we can apply to the analysis tools which are summarization, visualization, classification, regression, clustering, and estimation. <br>\n",
    "1.5 how to load a data set. \n",
    "import pandas as pd\n",
    "pd.read_csv(dataset)<br>\n",
    "1.6 how to name things, for example  my_burger = 10<br>\n",
    "1.7 Creating subsets of data frames. I can use loc[] to filter rows and select columns. <br>\n",
    "\n",
    "### Question 3.2\n",
    "\n",
    "Descriptive: What is the most common crop and weather between 2010-2023?<br>\n",
    "\n",
    "Exploratory: What is the pattern of the growth of crop in colder weather?<br>\n",
    "\n",
    "Predictive: Based on the data we have, what kind of crop grows best at a warmer weather?<br>\n",
    "\n",
    "Inferential: What is the relationship between the death of a crop to the hottest weather between 2010-2023?<br>\n",
    "\n",
    "### Question 3.3 \n",
    "\n",
    "\n",
    "\n"
   ]
  },
  {
   "cell_type": "markdown",
   "metadata": {},
   "source": [
    "### Question 4.1\n",
    "\n",
    "#### Prompt: \n",
    "please print a list of 10 wild animals in python<br>\n",
    "\n",
    "#### Answer: \n",
    "Certainly! Here's a simple Python code snippet that prints a list of 10 wild animals:<br>\n",
    "\n",
    "python\n",
    "Copy code\n",
    "wild_animals = [\"Lion\", \"Tiger\", \"Elephant\", \"Giraffe\", \"Zebra\", \"Cheetah\", \"Kangaroo\", \"Hippopotamus\", \"Crocodile\", \"Gorilla\"]\n",
    "\n",
    "print(\"List of 10 Wild Animals:\")\n",
    "for animal in wild_animals:\n",
    "    print(animal)\n",
    "When you run this code, it will output:\n",
    "\n",
    "mathematica\n",
    "Copy code\n",
    "List of 10 Wild Animals:\n",
    "Lion\n",
    "Tiger\n",
    "Elephant\n",
    "Giraffe\n",
    "Zebra\n",
    "Cheetah\n",
    "Kangaroo\n",
    "Hippopotamus\n",
    "Crocodile\n",
    "Gorilla\n",
    "Feel free to modify the list if you want to include different wild animals!<br>\n",
    "\n",
    "#### Comment: \n",
    "It did well because it is a simple programming but if it is a more complex one, it would take more than 1 try to get the right answer.\n",
    "\n",
    "### Question 4.2\n",
    "\n",
    "#### Prompt: \n",
    "summarize me letter 29 on screwtape letter\n",
    "\n",
    "#### Answer: \n",
    "In Letter 29 of \"The Screwtape Letters,\" Screwtape explores the theme of \"living in the present moment\" and how it can be manipulated to hinder the patient's spiritual progress. He advises Wormwood to encourage the patient to focus excessively on either the past or the future, preventing him from fully engaging with the present.\n",
    "\n",
    "Screwtape warns against allowing the patient to experience true contentment in the present moment, as this could lead to gratitude and a deeper connection with God. Instead, he advises Wormwood to foster discontentment by making the patient dwell on past mistakes or anxiously anticipate future uncertainties.\n",
    "\n",
    "Additionally, Screwtape encourages Wormwood to use the patient's preoccupation with the past or future to distract him from the present opportunities for spiritual growth and connection with God.\n",
    "\n",
    "Overall, Letter 29 provides guidance on how to manipulate the patient's perception of time and hinder his spiritual progress by preventing him from fully engaging with and appreciating the present moment.\n",
    "\n",
    "\n",
    "#### Commment: \n",
    "I read the book and letter 29 was not about that. That answer was very general. "
   ]
  }
 ],
 "metadata": {
  "kernelspec": {
   "display_name": "Python 3",
   "language": "python",
   "name": "python3"
  },
  "language_info": {
   "codemirror_mode": {
    "name": "ipython",
    "version": 3
   },
   "file_extension": ".py",
   "mimetype": "text/x-python",
   "name": "python",
   "nbconvert_exporter": "python",
   "pygments_lexer": "ipython3",
   "version": "3.10.13"
  }
 },
 "nbformat": 4,
 "nbformat_minor": 2
}
