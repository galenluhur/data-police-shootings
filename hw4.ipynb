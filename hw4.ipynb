{
 "cells": [
  {
   "cell_type": "code",
   "execution_count": 2,
   "metadata": {},
   "outputs": [
    {
     "data": {
      "text/html": [
       "<div>\n",
       "<style scoped>\n",
       "    .dataframe tbody tr th:only-of-type {\n",
       "        vertical-align: middle;\n",
       "    }\n",
       "\n",
       "    .dataframe tbody tr th {\n",
       "        vertical-align: top;\n",
       "    }\n",
       "\n",
       "    .dataframe thead th {\n",
       "        text-align: right;\n",
       "    }\n",
       "</style>\n",
       "<table border=\"1\" class=\"dataframe\">\n",
       "  <thead>\n",
       "    <tr style=\"text-align: right;\">\n",
       "      <th></th>\n",
       "      <th>ID</th>\n",
       "      <th>Class</th>\n",
       "      <th>Radius</th>\n",
       "      <th>Texture</th>\n",
       "      <th>Perimeter</th>\n",
       "      <th>Area</th>\n",
       "      <th>Smoothness</th>\n",
       "      <th>Compactness</th>\n",
       "      <th>Concavity</th>\n",
       "      <th>Concave_points</th>\n",
       "      <th>Symmetry</th>\n",
       "      <th>Fractal_dimension</th>\n",
       "    </tr>\n",
       "  </thead>\n",
       "  <tbody>\n",
       "    <tr>\n",
       "      <th>0</th>\n",
       "      <td>842302</td>\n",
       "      <td>M</td>\n",
       "      <td>1.885031</td>\n",
       "      <td>-1.358098</td>\n",
       "      <td>2.301575</td>\n",
       "      <td>1.999478</td>\n",
       "      <td>1.306537</td>\n",
       "      <td>2.614365</td>\n",
       "      <td>2.107672</td>\n",
       "      <td>2.294058</td>\n",
       "      <td>2.748204</td>\n",
       "      <td>1.935312</td>\n",
       "    </tr>\n",
       "    <tr>\n",
       "      <th>1</th>\n",
       "      <td>842517</td>\n",
       "      <td>M</td>\n",
       "      <td>1.804340</td>\n",
       "      <td>-0.368879</td>\n",
       "      <td>1.533776</td>\n",
       "      <td>1.888827</td>\n",
       "      <td>-0.375282</td>\n",
       "      <td>-0.430066</td>\n",
       "      <td>-0.146620</td>\n",
       "      <td>1.086129</td>\n",
       "      <td>-0.243675</td>\n",
       "      <td>0.280943</td>\n",
       "    </tr>\n",
       "    <tr>\n",
       "      <th>2</th>\n",
       "      <td>84300903</td>\n",
       "      <td>M</td>\n",
       "      <td>1.510541</td>\n",
       "      <td>-0.023953</td>\n",
       "      <td>1.346291</td>\n",
       "      <td>1.455004</td>\n",
       "      <td>0.526944</td>\n",
       "      <td>1.081980</td>\n",
       "      <td>0.854222</td>\n",
       "      <td>1.953282</td>\n",
       "      <td>1.151242</td>\n",
       "      <td>0.201214</td>\n",
       "    </tr>\n",
       "    <tr>\n",
       "      <th>3</th>\n",
       "      <td>84348301</td>\n",
       "      <td>M</td>\n",
       "      <td>-0.281217</td>\n",
       "      <td>0.133866</td>\n",
       "      <td>-0.249720</td>\n",
       "      <td>-0.549538</td>\n",
       "      <td>3.391291</td>\n",
       "      <td>3.889975</td>\n",
       "      <td>1.987839</td>\n",
       "      <td>2.173873</td>\n",
       "      <td>6.040726</td>\n",
       "      <td>4.930672</td>\n",
       "    </tr>\n",
       "    <tr>\n",
       "      <th>4</th>\n",
       "      <td>84358402</td>\n",
       "      <td>M</td>\n",
       "      <td>1.297434</td>\n",
       "      <td>-1.465481</td>\n",
       "      <td>1.337363</td>\n",
       "      <td>1.219651</td>\n",
       "      <td>0.220362</td>\n",
       "      <td>-0.313119</td>\n",
       "      <td>0.612640</td>\n",
       "      <td>0.728618</td>\n",
       "      <td>-0.867590</td>\n",
       "      <td>-0.396751</td>\n",
       "    </tr>\n",
       "    <tr>\n",
       "      <th>5</th>\n",
       "      <td>843786</td>\n",
       "      <td>M</td>\n",
       "      <td>-0.165353</td>\n",
       "      <td>-0.313560</td>\n",
       "      <td>-0.114908</td>\n",
       "      <td>-0.244105</td>\n",
       "      <td>2.046712</td>\n",
       "      <td>1.720103</td>\n",
       "      <td>1.262133</td>\n",
       "      <td>0.905091</td>\n",
       "      <td>1.752527</td>\n",
       "      <td>2.239831</td>\n",
       "    </tr>\n",
       "    <tr>\n",
       "      <th>6</th>\n",
       "      <td>844359</td>\n",
       "      <td>M</td>\n",
       "      <td>1.367780</td>\n",
       "      <td>0.322599</td>\n",
       "      <td>1.367122</td>\n",
       "      <td>1.274098</td>\n",
       "      <td>0.518184</td>\n",
       "      <td>0.021196</td>\n",
       "      <td>0.509104</td>\n",
       "      <td>1.195664</td>\n",
       "      <td>0.262245</td>\n",
       "      <td>-0.014718</td>\n",
       "    </tr>\n",
       "    <tr>\n",
       "      <th>7</th>\n",
       "      <td>84458202</td>\n",
       "      <td>M</td>\n",
       "      <td>0.163619</td>\n",
       "      <td>0.400695</td>\n",
       "      <td>0.099361</td>\n",
       "      <td>0.028834</td>\n",
       "      <td>1.446688</td>\n",
       "      <td>0.724148</td>\n",
       "      <td>-0.021035</td>\n",
       "      <td>0.623647</td>\n",
       "      <td>0.477221</td>\n",
       "      <td>1.724917</td>\n",
       "    </tr>\n",
       "    <tr>\n",
       "      <th>8</th>\n",
       "      <td>844981</td>\n",
       "      <td>M</td>\n",
       "      <td>-0.161215</td>\n",
       "      <td>0.822090</td>\n",
       "      <td>-0.031581</td>\n",
       "      <td>-0.248145</td>\n",
       "      <td>1.661295</td>\n",
       "      <td>1.816711</td>\n",
       "      <td>1.278909</td>\n",
       "      <td>1.390393</td>\n",
       "      <td>2.387756</td>\n",
       "      <td>1.287517</td>\n",
       "    </tr>\n",
       "  </tbody>\n",
       "</table>\n",
       "</div>"
      ],
      "text/plain": [
       "         ID Class    Radius   Texture  Perimeter      Area  Smoothness  \\\n",
       "0    842302     M  1.885031 -1.358098   2.301575  1.999478    1.306537   \n",
       "1    842517     M  1.804340 -0.368879   1.533776  1.888827   -0.375282   \n",
       "2  84300903     M  1.510541 -0.023953   1.346291  1.455004    0.526944   \n",
       "3  84348301     M -0.281217  0.133866  -0.249720 -0.549538    3.391291   \n",
       "4  84358402     M  1.297434 -1.465481   1.337363  1.219651    0.220362   \n",
       "5    843786     M -0.165353 -0.313560  -0.114908 -0.244105    2.046712   \n",
       "6    844359     M  1.367780  0.322599   1.367122  1.274098    0.518184   \n",
       "7  84458202     M  0.163619  0.400695   0.099361  0.028834    1.446688   \n",
       "8    844981     M -0.161215  0.822090  -0.031581 -0.248145    1.661295   \n",
       "\n",
       "   Compactness  Concavity  Concave_points  Symmetry  Fractal_dimension  \n",
       "0     2.614365   2.107672        2.294058  2.748204           1.935312  \n",
       "1    -0.430066  -0.146620        1.086129 -0.243675           0.280943  \n",
       "2     1.081980   0.854222        1.953282  1.151242           0.201214  \n",
       "3     3.889975   1.987839        2.173873  6.040726           4.930672  \n",
       "4    -0.313119   0.612640        0.728618 -0.867590          -0.396751  \n",
       "5     1.720103   1.262133        0.905091  1.752527           2.239831  \n",
       "6     0.021196   0.509104        1.195664  0.262245          -0.014718  \n",
       "7     0.724148  -0.021035        0.623647  0.477221           1.724917  \n",
       "8     1.816711   1.278909        1.390393  2.387756           1.287517  "
      ]
     },
     "execution_count": 2,
     "metadata": {},
     "output_type": "execute_result"
    }
   ],
   "source": [
    "#1.1\n",
    "import pandas as pd \n",
    "cancer = pd.read_csv(\"cancer.csv\")\n",
    "cancer.head(9)"
   ]
  },
  {
   "cell_type": "markdown",
   "metadata": {},
   "source": [
    "### 1.2\n",
    "The variable area is not a classification problem because area is a continuous variable which uses more of an regression techniques. "
   ]
  },
  {
   "cell_type": "code",
   "execution_count": 3,
   "metadata": {},
   "outputs": [
    {
     "data": {
      "image/png": "[encoded data removed]",
      "text/plain": [
       "<Figure size 1000x600 with 1 Axes>"
      ]
     },
     "metadata": {},
     "output_type": "display_data"
    }
   ],
   "source": [
    "#1.3\n",
    "import matplotlib.pyplot as plt\n",
    "\n",
    "class_M = cancer[cancer['Class'] == 'M']\n",
    "class_B = cancer[cancer['Class'] == 'B']\n",
    "\n",
    "plt.figure(figsize=(10, 6))\n",
    "plt.scatter(class_M['Symmetry'], class_M['Radius'], color='red', label='M')\n",
    "plt.scatter(class_B['Symmetry'], class_B['Radius'], color='blue', label='B')\n",
    "\n",
    "plt.xlabel('Symmetry')\n",
    "plt.ylabel('Radius')\n",
    "plt.title('Scatterplot of Symmetry vs Radius')\n",
    "\n",
    "plt.legend()\n",
    "plt.show()\n",
    "#thank you chat"
   ]
  },
  {
   "cell_type": "markdown",
   "metadata": {},
   "source": [
    "### 1.4\n",
    "symmetry=1 and radius=1 is red circle which is malignant"
   ]
  },
  {
   "cell_type": "code",
   "execution_count": 4,
   "metadata": {},
   "outputs": [
    {
     "name": "stdout",
     "output_type": "stream",
     "text": [
      "Symmetry value for the first row (a_x): 2.74820411421215\n",
      "Radius value for the first row (a_y): 1.88503099661675\n",
      "Symmetry value for the second row (b_x): -0.243675259026272\n",
      "Radius value for the second row (b_y): 1.8043398096552\n"
     ]
    }
   ],
   "source": [
    "#1.5\n",
    "first_observation = cancer.iloc[0]\n",
    "second_observation = cancer.iloc[1]\n",
    "\n",
    "a_x = first_observation['Symmetry']\n",
    "a_y = first_observation['Radius']\n",
    "b_x = second_observation['Symmetry']\n",
    "b_y = second_observation['Radius']\n",
    "\n",
    "print(\"Symmetry value for the first row (a_x):\", a_x)\n",
    "print(\"Radius value for the first row (a_y):\", a_y)\n",
    "print(\"Symmetry value for the second row (b_x):\", b_x)\n",
    "print(\"Radius value for the second row (b_y):\", b_y)"
   ]
  },
  {
   "cell_type": "code",
   "execution_count": 5,
   "metadata": {},
   "outputs": [
    {
     "data": {
      "text/plain": [
       "2.9929672987960956"
      ]
     },
     "execution_count": 5,
     "metadata": {},
     "output_type": "execute_result"
    }
   ],
   "source": [
    "#1.6\n",
    "import numpy as np\n",
    "\n",
    "distance = np.sqrt((a_x - b_x)**2 + (a_y - b_y)**2)\n",
    "distance"
   ]
  },
  {
   "cell_type": "code",
   "execution_count": 6,
   "metadata": {},
   "outputs": [
    {
     "data": {
      "text/plain": [
       "3.7469567200527925"
      ]
     },
     "execution_count": 6,
     "metadata": {},
     "output_type": "execute_result"
    }
   ],
   "source": [
    "#1.7\n",
    "a_z = cancer.loc[0, 'Concavity']\n",
    "b_z = cancer.loc[1, 'Concavity']\n",
    "distance_concavity = np.sqrt((a_x - b_x)**2 + (a_y - b_y)**2 + (a_z - b_z)**2)\n",
    "distance_concavity"
   ]
  },
  {
   "cell_type": "code",
   "execution_count": 7,
   "metadata": {},
   "outputs": [
    {
     "data": {
      "text/html": [
       "<style>#sk-container-id-1 {color: black;}#sk-container-id-1 pre{padding: 0;}#sk-container-id-1 div.sk-toggleable {background-color: white;}#sk-container-id-1 label.sk-toggleable__label {cursor: pointer;display: block;width: 100%;margin-bottom: 0;padding: 0.3em;box-sizing: border-box;text-align: center;}#sk-container-id-1 label.sk-toggleable__label-arrow:before {content: \"▸\";float: left;margin-right: 0.25em;color: #696969;}#sk-container-id-1 label.sk-toggleable__label-arrow:hover:before {color: black;}#sk-container-id-1 div.sk-estimator:hover label.sk-toggleable__label-arrow:before {color: black;}#sk-container-id-1 div.sk-toggleable__content {max-height: 0;max-width: 0;overflow: hidden;text-align: left;background-color: #f0f8ff;}#sk-container-id-1 div.sk-toggleable__content pre {margin: 0.2em;color: black;border-radius: 0.25em;background-color: #f0f8ff;}#sk-container-id-1 input.sk-toggleable__control:checked~div.sk-toggleable__content {max-height: 200px;max-width: 100%;overflow: auto;}#sk-container-id-1 input.sk-toggleable__control:checked~label.sk-toggleable__label-arrow:before {content: \"▾\";}#sk-container-id-1 div.sk-estimator input.sk-toggleable__control:checked~label.sk-toggleable__label {background-color: #d4ebff;}#sk-container-id-1 div.sk-label input.sk-toggleable__control:checked~label.sk-toggleable__label {background-color: #d4ebff;}#sk-container-id-1 input.sk-hidden--visually {border: 0;clip: rect(1px 1px 1px 1px);clip: rect(1px, 1px, 1px, 1px);height: 1px;margin: -1px;overflow: hidden;padding: 0;position: absolute;width: 1px;}#sk-container-id-1 div.sk-estimator {font-family: monospace;background-color: #f0f8ff;border: 1px dotted black;border-radius: 0.25em;box-sizing: border-box;margin-bottom: 0.5em;}#sk-container-id-1 div.sk-estimator:hover {background-color: #d4ebff;}#sk-container-id-1 div.sk-parallel-item::after {content: \"\";width: 100%;border-bottom: 1px solid gray;flex-grow: 1;}#sk-container-id-1 div.sk-label:hover label.sk-toggleable__label {background-color: #d4ebff;}#sk-container-id-1 div.sk-serial::before {content: \"\";position: absolute;border-left: 1px solid gray;box-sizing: border-box;top: 0;bottom: 0;left: 50%;z-index: 0;}#sk-container-id-1 div.sk-serial {display: flex;flex-direction: column;align-items: center;background-color: white;padding-right: 0.2em;padding-left: 0.2em;position: relative;}#sk-container-id-1 div.sk-item {position: relative;z-index: 1;}#sk-container-id-1 div.sk-parallel {display: flex;align-items: stretch;justify-content: center;background-color: white;position: relative;}#sk-container-id-1 div.sk-item::before, #sk-container-id-1 div.sk-parallel-item::before {content: \"\";position: absolute;border-left: 1px solid gray;box-sizing: border-box;top: 0;bottom: 0;left: 50%;z-index: -1;}#sk-container-id-1 div.sk-parallel-item {display: flex;flex-direction: column;z-index: 1;position: relative;background-color: white;}#sk-container-id-1 div.sk-parallel-item:first-child::after {align-self: flex-end;width: 50%;}#sk-container-id-1 div.sk-parallel-item:last-child::after {align-self: flex-start;width: 50%;}#sk-container-id-1 div.sk-parallel-item:only-child::after {width: 0;}#sk-container-id-1 div.sk-dashed-wrapped {border: 1px dashed gray;margin: 0 0.4em 0.5em 0.4em;box-sizing: border-box;padding-bottom: 0.4em;background-color: white;}#sk-container-id-1 div.sk-label label {font-family: monospace;font-weight: bold;display: inline-block;line-height: 1.2em;}#sk-container-id-1 div.sk-label-container {text-align: center;}#sk-container-id-1 div.sk-container {/* jupyter's `normalize.less` sets `[hidden] { display: none; }` but bootstrap.min.css set `[hidden] { display: none !important; }` so we also need the `!important` here to be able to override the default hidden behavior on the sphinx rendered scikit-learn.org. See: https://github.com/scikit-learn/scikit-learn/issues/21755 */display: inline-block !important;position: relative;}#sk-container-id-1 div.sk-text-repr-fallback {display: none;}</style><div id=\"sk-container-id-1\" class=\"sk-top-container\"><div class=\"sk-text-repr-fallback\"><pre>KNeighborsClassifier(n_neighbors=7)</pre><b>In a Jupyter environment, please rerun this cell to show the HTML representation or trust the notebook. <br />On GitHub, the HTML representation is unable to render, please try loading this page with nbviewer.org.</b></div><div class=\"sk-container\" hidden><div class=\"sk-item\"><div class=\"sk-estimator sk-toggleable\"><input class=\"sk-toggleable__control sk-hidden--visually\" id=\"sk-estimator-id-1\" type=\"checkbox\" checked><label for=\"sk-estimator-id-1\" class=\"sk-toggleable__label sk-toggleable__label-arrow\">KNeighborsClassifier</label><div class=\"sk-toggleable__content\"><pre>KNeighborsClassifier(n_neighbors=7)</pre></div></div></div></div></div>"
      ],
      "text/plain": [
       "KNeighborsClassifier(n_neighbors=7)"
      ]
     },
     "execution_count": 7,
     "metadata": {},
     "output_type": "execute_result"
    }
   ],
   "source": [
    "#1.8\n",
    "from sklearn.model_selection import train_test_split\n",
    "from sklearn.neighbors import KNeighborsClassifier\n",
    "\n",
    "X = cancer[['Symmetry', 'Radius', 'Concavity']]\n",
    "y = cancer['Class']\n",
    "\n",
    "X_train, X_test, y_train, y_test = train_test_split(X, y, test_size=0.3, random_state=4)\n",
    "\n",
    "knn_spec = KNeighborsClassifier(n_neighbors=7)\n",
    "knn_spec.fit(X_train, y_train)"
   ]
  },
  {
   "cell_type": "code",
   "execution_count": 8,
   "metadata": {},
   "outputs": [
    {
     "name": "stdout",
     "output_type": "stream",
     "text": [
      "              precision    recall  f1-score   support\n",
      "\n",
      "           B       0.97      0.92      0.95       117\n",
      "           M       0.85      0.94      0.89        54\n",
      "\n",
      "    accuracy                           0.93       171\n",
      "   macro avg       0.91      0.93      0.92       171\n",
      "weighted avg       0.93      0.93      0.93       171\n",
      "\n"
     ]
    }
   ],
   "source": [
    "#1.9\n",
    "from sklearn.metrics import classification_report\n",
    "\n",
    "# Predicting on the test set\n",
    "y_pred = knn_spec.predict(X_test)\n",
    "\n",
    "# Generating classification report\n",
    "report = classification_report(y_test, y_pred)\n",
    "\n",
    "print(report)\n",
    "#thanks chat"
   ]
  },
  {
   "cell_type": "code",
   "execution_count": 9,
   "metadata": {},
   "outputs": [
    {
     "name": "stdout",
     "output_type": "stream",
     "text": [
      "[[108   9]\n",
      " [  3  51]]\n"
     ]
    }
   ],
   "source": [
    "1.10\n",
    "from sklearn.metrics import confusion_matrix\n",
    "\n",
    "# Generate confusion matrix\n",
    "conf_matrix = confusion_matrix(y_test, y_pred)\n",
    "\n",
    "print(conf_matrix)"
   ]
  },
  {
   "cell_type": "markdown",
   "metadata": {},
   "source": [
    "Based on this confusion matrix, there is 9 FP which mean the model might be too aggresive in predicting positive outcomes. The other one is 3 FN which is a small number but in medical world it is concerning. This confusion matrix has slightly higher FP than FN. This means the model has hgiher recall but lower precision. "
   ]
  },
  {
   "cell_type": "code",
   "execution_count": 11,
   "metadata": {},
   "outputs": [
    {
     "name": "stdout",
     "output_type": "stream",
     "text": [
      "\n",
      "2-Fold Cross-Validation:\n",
      "Accuracy: 0.9279\n",
      "Precision: 0.9302\n",
      "Recall: 0.9279\n",
      "F1: 0.9280\n",
      "\n",
      "7-Fold Cross-Validation:\n",
      "Accuracy: 0.9331\n",
      "Precision: 0.9360\n",
      "Recall: 0.9331\n",
      "F1: 0.9330\n",
      "\n",
      "20-Fold Cross-Validation:\n",
      "Accuracy: 0.9329\n",
      "Precision: 0.9385\n",
      "Recall: 0.9329\n",
      "F1: 0.9329\n"
     ]
    }
   ],
   "source": [
    "from sklearn.model_selection import cross_val_score, KFold\n",
    "from sklearn.metrics import make_scorer, accuracy_score, precision_score, recall_score, f1_score\n",
    "\n",
    "k_values = [2, 7, 20]\n",
    "\n",
    "scoring = {\n",
    "    'accuracy': make_scorer(accuracy_score),\n",
    "    'precision': make_scorer(precision_score, average='weighted'),\n",
    "    'recall': make_scorer(recall_score, average='weighted'),\n",
    "    'f1': make_scorer(f1_score, average='weighted')\n",
    "}\n",
    "\n",
    "for k in k_values:\n",
    "    print(f\"\\n{k}-Fold Cross-Validation:\")\n",
    "    \n",
    "    kf = KFold(n_splits=k, shuffle=True, random_state=4)\n",
    "    \n",
    "    for metric in scoring.keys():\n",
    "        scores = cross_val_score(knn_spec, X, y, cv=kf, scoring=scoring[metric])\n",
    "        avg_score = np.mean(scores)\n",
    "        print(f\"{metric.capitalize()}: {avg_score:.4f}\")\n",
    "#thanks chat"
   ]
  },
  {
   "cell_type": "markdown",
   "metadata": {},
   "source": [
    "### 2\n",
    "There needs to be a trade-off between high precision and high recall. A precision is to measures the proportion of true positive predictions among all positive predictions made by the model, while a recall is to measures the proportion of true positive predictions among all actual positive instances in the dataset. So when we have a high precision model, it means that the recall will be lower and vice versa. "
   ]
  }
 ],
 "metadata": {
  "kernelspec": {
   "display_name": "Python 3",
   "language": "python",
   "name": "python3"
  },
  "language_info": {
   "codemirror_mode": {
    "name": "ipython",
    "version": 3
   },
   "file_extension": ".py",
   "mimetype": "text/x-python",
   "name": "python",
   "nbconvert_exporter": "python",
   "pygments_lexer": "ipython3",
   "version": "3.10.13"
  }
 },
 "nbformat": 4,
 "nbformat_minor": 2
}
